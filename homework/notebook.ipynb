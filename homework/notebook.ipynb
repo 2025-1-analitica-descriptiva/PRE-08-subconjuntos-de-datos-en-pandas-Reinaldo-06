{
 "cells": [
  {
   "cell_type": "code",
   "execution_count": 3,
   "id": "a9b999d6",
   "metadata": {},
   "outputs": [],
   "source": [
    "import pandas as pd"
   ]
  },
  {
   "cell_type": "code",
   "execution_count": 4,
   "id": "a646bc1d",
   "metadata": {},
   "outputs": [
    {
     "data": {
      "application/vnd.microsoft.datawrangler.viewer.v0+json": {
       "columns": [
        {
         "name": "index",
         "rawType": "int64",
         "type": "integer"
        },
        {
         "name": "driverId",
         "rawType": "int64",
         "type": "integer"
        },
        {
         "name": "truckId",
         "rawType": "int64",
         "type": "integer"
        },
        {
         "name": "eventTime",
         "rawType": "object",
         "type": "string"
        },
        {
         "name": "eventType",
         "rawType": "object",
         "type": "string"
        },
        {
         "name": "longitude",
         "rawType": "float64",
         "type": "float"
        },
        {
         "name": "latitude",
         "rawType": "float64",
         "type": "float"
        },
        {
         "name": "eventKey",
         "rawType": "object",
         "type": "string"
        },
        {
         "name": "CorrelationId",
         "rawType": "float64",
         "type": "float"
        },
        {
         "name": "driverName",
         "rawType": "object",
         "type": "string"
        },
        {
         "name": "routeId",
         "rawType": "int64",
         "type": "integer"
        },
        {
         "name": "routeName",
         "rawType": "object",
         "type": "string"
        },
        {
         "name": "eventDate",
         "rawType": "object",
         "type": "string"
        }
       ],
       "conversionMethod": "pd.DataFrame",
       "ref": "117be139-0fb5-40dd-9a62-28a53541e1d8",
       "rows": [
        [
         "0",
         "14",
         "25",
         "59:21.4",
         "Normal",
         "-94.58",
         "37.03",
         "14|25|9223370572464814373",
         "3.66e+18",
         "Adis Cesir",
         "160405074",
         "Joplin to Kansas City Route 2",
         "2016-05-27-22"
        ],
        [
         "1",
         "18",
         "16",
         "59:21.7",
         "Normal",
         "-89.66",
         "39.78",
         "18|16|9223370572464814089",
         "3.66e+18",
         "Grant Liu",
         "1565885487",
         "Springfield to KC Via Hanibal",
         "2016-05-27-22"
        ],
        [
         "2",
         "27",
         "105",
         "59:21.7",
         "Normal",
         "-90.21",
         "38.65",
         "27|105|9223370572464814070",
         "3.66e+18",
         "Mark Lochbihler",
         "1325562373",
         "Springfield to KC Via Columbia Route 2",
         "2016-05-27-22"
        ],
        [
         "3",
         "11",
         "74",
         "59:21.7",
         "Normal",
         "-90.2",
         "38.65",
         "11|74|9223370572464814123",
         "3.66e+18",
         "Jamie Engesser",
         "1567254452",
         "Saint Louis to Memphis Route2",
         "2016-05-27-22"
        ],
        [
         "4",
         "22",
         "87",
         "59:21.7",
         "Normal",
         "-90.04",
         "35.19",
         "22|87|9223370572464814101",
         "3.66e+18",
         "Nadeem Asghar",
         "1198242881",
         " Saint Louis to Chicago Route2",
         "2016-05-27-22"
        ]
       ],
       "shape": {
        "columns": 12,
        "rows": 5
       }
      },
      "text/html": [
       "<div>\n",
       "<style scoped>\n",
       "    .dataframe tbody tr th:only-of-type {\n",
       "        vertical-align: middle;\n",
       "    }\n",
       "\n",
       "    .dataframe tbody tr th {\n",
       "        vertical-align: top;\n",
       "    }\n",
       "\n",
       "    .dataframe thead th {\n",
       "        text-align: right;\n",
       "    }\n",
       "</style>\n",
       "<table border=\"1\" class=\"dataframe\">\n",
       "  <thead>\n",
       "    <tr style=\"text-align: right;\">\n",
       "      <th></th>\n",
       "      <th>driverId</th>\n",
       "      <th>truckId</th>\n",
       "      <th>eventTime</th>\n",
       "      <th>eventType</th>\n",
       "      <th>longitude</th>\n",
       "      <th>latitude</th>\n",
       "      <th>eventKey</th>\n",
       "      <th>CorrelationId</th>\n",
       "      <th>driverName</th>\n",
       "      <th>routeId</th>\n",
       "      <th>routeName</th>\n",
       "      <th>eventDate</th>\n",
       "    </tr>\n",
       "  </thead>\n",
       "  <tbody>\n",
       "    <tr>\n",
       "      <th>0</th>\n",
       "      <td>14</td>\n",
       "      <td>25</td>\n",
       "      <td>59:21.4</td>\n",
       "      <td>Normal</td>\n",
       "      <td>-94.58</td>\n",
       "      <td>37.03</td>\n",
       "      <td>14|25|9223370572464814373</td>\n",
       "      <td>3.660000e+18</td>\n",
       "      <td>Adis Cesir</td>\n",
       "      <td>160405074</td>\n",
       "      <td>Joplin to Kansas City Route 2</td>\n",
       "      <td>2016-05-27-22</td>\n",
       "    </tr>\n",
       "    <tr>\n",
       "      <th>1</th>\n",
       "      <td>18</td>\n",
       "      <td>16</td>\n",
       "      <td>59:21.7</td>\n",
       "      <td>Normal</td>\n",
       "      <td>-89.66</td>\n",
       "      <td>39.78</td>\n",
       "      <td>18|16|9223370572464814089</td>\n",
       "      <td>3.660000e+18</td>\n",
       "      <td>Grant Liu</td>\n",
       "      <td>1565885487</td>\n",
       "      <td>Springfield to KC Via Hanibal</td>\n",
       "      <td>2016-05-27-22</td>\n",
       "    </tr>\n",
       "    <tr>\n",
       "      <th>2</th>\n",
       "      <td>27</td>\n",
       "      <td>105</td>\n",
       "      <td>59:21.7</td>\n",
       "      <td>Normal</td>\n",
       "      <td>-90.21</td>\n",
       "      <td>38.65</td>\n",
       "      <td>27|105|9223370572464814070</td>\n",
       "      <td>3.660000e+18</td>\n",
       "      <td>Mark Lochbihler</td>\n",
       "      <td>1325562373</td>\n",
       "      <td>Springfield to KC Via Columbia Route 2</td>\n",
       "      <td>2016-05-27-22</td>\n",
       "    </tr>\n",
       "    <tr>\n",
       "      <th>3</th>\n",
       "      <td>11</td>\n",
       "      <td>74</td>\n",
       "      <td>59:21.7</td>\n",
       "      <td>Normal</td>\n",
       "      <td>-90.20</td>\n",
       "      <td>38.65</td>\n",
       "      <td>11|74|9223370572464814123</td>\n",
       "      <td>3.660000e+18</td>\n",
       "      <td>Jamie Engesser</td>\n",
       "      <td>1567254452</td>\n",
       "      <td>Saint Louis to Memphis Route2</td>\n",
       "      <td>2016-05-27-22</td>\n",
       "    </tr>\n",
       "    <tr>\n",
       "      <th>4</th>\n",
       "      <td>22</td>\n",
       "      <td>87</td>\n",
       "      <td>59:21.7</td>\n",
       "      <td>Normal</td>\n",
       "      <td>-90.04</td>\n",
       "      <td>35.19</td>\n",
       "      <td>22|87|9223370572464814101</td>\n",
       "      <td>3.660000e+18</td>\n",
       "      <td>Nadeem Asghar</td>\n",
       "      <td>1198242881</td>\n",
       "      <td>Saint Louis to Chicago Route2</td>\n",
       "      <td>2016-05-27-22</td>\n",
       "    </tr>\n",
       "  </tbody>\n",
       "</table>\n",
       "</div>"
      ],
      "text/plain": [
       "   driverId  truckId eventTime eventType  longitude  latitude  \\\n",
       "0        14       25   59:21.4    Normal     -94.58     37.03   \n",
       "1        18       16   59:21.7    Normal     -89.66     39.78   \n",
       "2        27      105   59:21.7    Normal     -90.21     38.65   \n",
       "3        11       74   59:21.7    Normal     -90.20     38.65   \n",
       "4        22       87   59:21.7    Normal     -90.04     35.19   \n",
       "\n",
       "                     eventKey  CorrelationId       driverName     routeId  \\\n",
       "0   14|25|9223370572464814373   3.660000e+18       Adis Cesir   160405074   \n",
       "1   18|16|9223370572464814089   3.660000e+18        Grant Liu  1565885487   \n",
       "2  27|105|9223370572464814070   3.660000e+18  Mark Lochbihler  1325562373   \n",
       "3   11|74|9223370572464814123   3.660000e+18   Jamie Engesser  1567254452   \n",
       "4   22|87|9223370572464814101   3.660000e+18    Nadeem Asghar  1198242881   \n",
       "\n",
       "                                routeName      eventDate  \n",
       "0           Joplin to Kansas City Route 2  2016-05-27-22  \n",
       "1           Springfield to KC Via Hanibal  2016-05-27-22  \n",
       "2  Springfield to KC Via Columbia Route 2  2016-05-27-22  \n",
       "3           Saint Louis to Memphis Route2  2016-05-27-22  \n",
       "4           Saint Louis to Chicago Route2  2016-05-27-22  "
      ]
     },
     "execution_count": 4,
     "metadata": {},
     "output_type": "execute_result"
    }
   ],
   "source": [
    "# Update the path to the correct location of the file\n",
    "truck_events = pd.read_csv(\"../files/input/truck_event_text_partition.csv\")\n",
    "truck_events.head()"
   ]
  },
  {
   "cell_type": "code",
   "execution_count": 5,
   "id": "061d16af",
   "metadata": {},
   "outputs": [
    {
     "data": {
      "application/vnd.microsoft.datawrangler.viewer.v0+json": {
       "columns": [
        {
         "name": "index",
         "rawType": "int64",
         "type": "integer"
        },
        {
         "name": "driverId",
         "rawType": "int64",
         "type": "integer"
        },
        {
         "name": "eventTime",
         "rawType": "object",
         "type": "string"
        },
        {
         "name": "eventType",
         "rawType": "object",
         "type": "string"
        }
       ],
       "conversionMethod": "pd.DataFrame",
       "ref": "958b112e-ee59-4716-86d7-3dc4d4305c6c",
       "rows": [
        [
         "0",
         "14",
         "59:21.4",
         "Normal"
        ],
        [
         "1",
         "18",
         "59:21.7",
         "Normal"
        ],
        [
         "2",
         "27",
         "59:21.7",
         "Normal"
        ],
        [
         "3",
         "11",
         "59:21.7",
         "Normal"
        ],
        [
         "4",
         "22",
         "59:21.7",
         "Normal"
        ],
        [
         "5",
         "22",
         "59:22.3",
         "Normal"
        ],
        [
         "6",
         "23",
         "59:22.4",
         "Normal"
        ],
        [
         "7",
         "11",
         "59:22.5",
         "Normal"
        ],
        [
         "8",
         "20",
         "59:22.5",
         "Normal"
        ],
        [
         "9",
         "32",
         "59:22.5",
         "Normal"
        ],
        [
         "10",
         "27",
         "59:22.6",
         "Normal"
        ],
        [
         "11",
         "17",
         "59:23.2",
         "Normal"
        ],
        [
         "12",
         "14",
         "59:23.3",
         "Normal"
        ],
        [
         "13",
         "28",
         "59:23.3",
         "Normal"
        ],
        [
         "14",
         "15",
         "59:23.4",
         "Normal"
        ],
        [
         "15",
         "16",
         "59:23.4",
         "Normal"
        ],
        [
         "16",
         "31",
         "59:23.5",
         "Normal"
        ],
        [
         "17",
         "25",
         "59:23.5",
         "Normal"
        ],
        [
         "18",
         "14",
         "59:24.2",
         "Normal"
        ],
        [
         "19",
         "22",
         "59:24.2",
         "Normal"
        ],
        [
         "20",
         "32",
         "59:24.2",
         "Normal"
        ],
        [
         "21",
         "24",
         "59:24.3",
         "Normal"
        ],
        [
         "22",
         "25",
         "59:24.3",
         "Normal"
        ],
        [
         "23",
         "29",
         "59:24.7",
         "Normal"
        ],
        [
         "24",
         "22",
         "59:25.0",
         "Normal"
        ],
        [
         "25",
         "18",
         "59:25.0",
         "Normal"
        ],
        [
         "26",
         "19",
         "59:25.1",
         "Normal"
        ],
        [
         "27",
         "26",
         "59:25.2",
         "Normal"
        ],
        [
         "28",
         "16",
         "59:25.3",
         "Normal"
        ],
        [
         "29",
         "21",
         "59:25.7",
         "Normal"
        ],
        [
         "30",
         "13",
         "59:25.9",
         "Normal"
        ],
        [
         "31",
         "19",
         "59:25.9",
         "Normal"
        ],
        [
         "32",
         "27",
         "59:25.9",
         "Normal"
        ],
        [
         "33",
         "25",
         "59:26.2",
         "Normal"
        ],
        [
         "34",
         "23",
         "59:26.6",
         "Normal"
        ],
        [
         "35",
         "22",
         "59:26.6",
         "Normal"
        ],
        [
         "36",
         "10",
         "59:26.8",
         "Normal"
        ],
        [
         "37",
         "28",
         "59:26.9",
         "Normal"
        ],
        [
         "38",
         "26",
         "59:27.0",
         "Normal"
        ],
        [
         "39",
         "25",
         "59:27.0",
         "Normal"
        ],
        [
         "40",
         "23",
         "59:27.4",
         "Normal"
        ],
        [
         "41",
         "13",
         "59:27.6",
         "Normal"
        ],
        [
         "42",
         "27",
         "59:27.7",
         "Normal"
        ],
        [
         "43",
         "28",
         "59:27.7",
         "Normal"
        ],
        [
         "44",
         "25",
         "59:27.8",
         "Normal"
        ],
        [
         "45",
         "24",
         "59:27.9",
         "Normal"
        ],
        [
         "46",
         "30",
         "59:28.0",
         "Normal"
        ],
        [
         "47",
         "11",
         "59:28.3",
         "Normal"
        ],
        [
         "48",
         "23",
         "59:28.4",
         "Normal"
        ],
        [
         "49",
         "13",
         "59:28.5",
         "Normal"
        ]
       ],
       "shape": {
        "columns": 3,
        "rows": 17075
       }
      },
      "text/html": [
       "<div>\n",
       "<style scoped>\n",
       "    .dataframe tbody tr th:only-of-type {\n",
       "        vertical-align: middle;\n",
       "    }\n",
       "\n",
       "    .dataframe tbody tr th {\n",
       "        vertical-align: top;\n",
       "    }\n",
       "\n",
       "    .dataframe thead th {\n",
       "        text-align: right;\n",
       "    }\n",
       "</style>\n",
       "<table border=\"1\" class=\"dataframe\">\n",
       "  <thead>\n",
       "    <tr style=\"text-align: right;\">\n",
       "      <th></th>\n",
       "      <th>driverId</th>\n",
       "      <th>eventTime</th>\n",
       "      <th>eventType</th>\n",
       "    </tr>\n",
       "  </thead>\n",
       "  <tbody>\n",
       "    <tr>\n",
       "      <th>0</th>\n",
       "      <td>14</td>\n",
       "      <td>59:21.4</td>\n",
       "      <td>Normal</td>\n",
       "    </tr>\n",
       "    <tr>\n",
       "      <th>1</th>\n",
       "      <td>18</td>\n",
       "      <td>59:21.7</td>\n",
       "      <td>Normal</td>\n",
       "    </tr>\n",
       "    <tr>\n",
       "      <th>2</th>\n",
       "      <td>27</td>\n",
       "      <td>59:21.7</td>\n",
       "      <td>Normal</td>\n",
       "    </tr>\n",
       "    <tr>\n",
       "      <th>3</th>\n",
       "      <td>11</td>\n",
       "      <td>59:21.7</td>\n",
       "      <td>Normal</td>\n",
       "    </tr>\n",
       "    <tr>\n",
       "      <th>4</th>\n",
       "      <td>22</td>\n",
       "      <td>59:21.7</td>\n",
       "      <td>Normal</td>\n",
       "    </tr>\n",
       "    <tr>\n",
       "      <th>...</th>\n",
       "      <td>...</td>\n",
       "      <td>...</td>\n",
       "      <td>...</td>\n",
       "    </tr>\n",
       "    <tr>\n",
       "      <th>17070</th>\n",
       "      <td>11</td>\n",
       "      <td>12:23.1</td>\n",
       "      <td>Normal</td>\n",
       "    </tr>\n",
       "    <tr>\n",
       "      <th>17071</th>\n",
       "      <td>16</td>\n",
       "      <td>12:24.0</td>\n",
       "      <td>Normal</td>\n",
       "    </tr>\n",
       "    <tr>\n",
       "      <th>17072</th>\n",
       "      <td>18</td>\n",
       "      <td>12:23.7</td>\n",
       "      <td>Normal</td>\n",
       "    </tr>\n",
       "    <tr>\n",
       "      <th>17073</th>\n",
       "      <td>10</td>\n",
       "      <td>12:23.8</td>\n",
       "      <td>Normal</td>\n",
       "    </tr>\n",
       "    <tr>\n",
       "      <th>17074</th>\n",
       "      <td>19</td>\n",
       "      <td>12:24.0</td>\n",
       "      <td>Normal</td>\n",
       "    </tr>\n",
       "  </tbody>\n",
       "</table>\n",
       "<p>17075 rows × 3 columns</p>\n",
       "</div>"
      ],
      "text/plain": [
       "       driverId eventTime eventType\n",
       "0            14   59:21.4    Normal\n",
       "1            18   59:21.7    Normal\n",
       "2            27   59:21.7    Normal\n",
       "3            11   59:21.7    Normal\n",
       "4            22   59:21.7    Normal\n",
       "...         ...       ...       ...\n",
       "17070        11   12:23.1    Normal\n",
       "17071        16   12:24.0    Normal\n",
       "17072        18   12:23.7    Normal\n",
       "17073        10   12:23.8    Normal\n",
       "17074        19   12:24.0    Normal\n",
       "\n",
       "[17075 rows x 3 columns]"
      ]
     },
     "execution_count": 5,
     "metadata": {},
     "output_type": "execute_result"
    }
   ],
   "source": [
    "specific_columns = truck_events[[\"driverId\", \"eventTime\", \"eventType\"]]\n",
    "specific_columns"
   ]
  },
  {
   "cell_type": "code",
   "execution_count": 6,
   "id": "d15ed3cd",
   "metadata": {},
   "outputs": [
    {
     "data": {
      "application/vnd.microsoft.datawrangler.viewer.v0+json": {
       "columns": [
        {
         "name": "index",
         "rawType": "int64",
         "type": "integer"
        },
        {
         "name": "driverId",
         "rawType": "int64",
         "type": "integer"
        },
        {
         "name": "eventTime",
         "rawType": "object",
         "type": "string"
        },
        {
         "name": "eventType",
         "rawType": "object",
         "type": "string"
        }
       ],
       "conversionMethod": "pd.DataFrame",
       "ref": "05456758-689a-47a6-a028-e4857799ae21",
       "rows": [
        [
         "0",
         "14",
         "59:21.4",
         "Normal"
        ],
        [
         "1",
         "18",
         "59:21.7",
         "Normal"
        ],
        [
         "2",
         "27",
         "59:21.7",
         "Normal"
        ],
        [
         "3",
         "11",
         "59:21.7",
         "Normal"
        ],
        [
         "4",
         "22",
         "59:21.7",
         "Normal"
        ],
        [
         "5",
         "22",
         "59:22.3",
         "Normal"
        ],
        [
         "6",
         "23",
         "59:22.4",
         "Normal"
        ],
        [
         "7",
         "11",
         "59:22.5",
         "Normal"
        ],
        [
         "8",
         "20",
         "59:22.5",
         "Normal"
        ],
        [
         "9",
         "32",
         "59:22.5",
         "Normal"
        ],
        [
         "10",
         "27",
         "59:22.6",
         "Normal"
        ]
       ],
       "shape": {
        "columns": 3,
        "rows": 11
       }
      },
      "text/html": [
       "<div>\n",
       "<style scoped>\n",
       "    .dataframe tbody tr th:only-of-type {\n",
       "        vertical-align: middle;\n",
       "    }\n",
       "\n",
       "    .dataframe tbody tr th {\n",
       "        vertical-align: top;\n",
       "    }\n",
       "\n",
       "    .dataframe thead th {\n",
       "        text-align: right;\n",
       "    }\n",
       "</style>\n",
       "<table border=\"1\" class=\"dataframe\">\n",
       "  <thead>\n",
       "    <tr style=\"text-align: right;\">\n",
       "      <th></th>\n",
       "      <th>driverId</th>\n",
       "      <th>eventTime</th>\n",
       "      <th>eventType</th>\n",
       "    </tr>\n",
       "  </thead>\n",
       "  <tbody>\n",
       "    <tr>\n",
       "      <th>0</th>\n",
       "      <td>14</td>\n",
       "      <td>59:21.4</td>\n",
       "      <td>Normal</td>\n",
       "    </tr>\n",
       "    <tr>\n",
       "      <th>1</th>\n",
       "      <td>18</td>\n",
       "      <td>59:21.7</td>\n",
       "      <td>Normal</td>\n",
       "    </tr>\n",
       "    <tr>\n",
       "      <th>2</th>\n",
       "      <td>27</td>\n",
       "      <td>59:21.7</td>\n",
       "      <td>Normal</td>\n",
       "    </tr>\n",
       "    <tr>\n",
       "      <th>3</th>\n",
       "      <td>11</td>\n",
       "      <td>59:21.7</td>\n",
       "      <td>Normal</td>\n",
       "    </tr>\n",
       "    <tr>\n",
       "      <th>4</th>\n",
       "      <td>22</td>\n",
       "      <td>59:21.7</td>\n",
       "      <td>Normal</td>\n",
       "    </tr>\n",
       "    <tr>\n",
       "      <th>5</th>\n",
       "      <td>22</td>\n",
       "      <td>59:22.3</td>\n",
       "      <td>Normal</td>\n",
       "    </tr>\n",
       "    <tr>\n",
       "      <th>6</th>\n",
       "      <td>23</td>\n",
       "      <td>59:22.4</td>\n",
       "      <td>Normal</td>\n",
       "    </tr>\n",
       "    <tr>\n",
       "      <th>7</th>\n",
       "      <td>11</td>\n",
       "      <td>59:22.5</td>\n",
       "      <td>Normal</td>\n",
       "    </tr>\n",
       "    <tr>\n",
       "      <th>8</th>\n",
       "      <td>20</td>\n",
       "      <td>59:22.5</td>\n",
       "      <td>Normal</td>\n",
       "    </tr>\n",
       "    <tr>\n",
       "      <th>9</th>\n",
       "      <td>32</td>\n",
       "      <td>59:22.5</td>\n",
       "      <td>Normal</td>\n",
       "    </tr>\n",
       "    <tr>\n",
       "      <th>10</th>\n",
       "      <td>27</td>\n",
       "      <td>59:22.6</td>\n",
       "      <td>Normal</td>\n",
       "    </tr>\n",
       "  </tbody>\n",
       "</table>\n",
       "</div>"
      ],
      "text/plain": [
       "    driverId eventTime eventType\n",
       "0         14   59:21.4    Normal\n",
       "1         18   59:21.7    Normal\n",
       "2         27   59:21.7    Normal\n",
       "3         11   59:21.7    Normal\n",
       "4         22   59:21.7    Normal\n",
       "5         22   59:22.3    Normal\n",
       "6         23   59:22.4    Normal\n",
       "7         11   59:22.5    Normal\n",
       "8         20   59:22.5    Normal\n",
       "9         32   59:22.5    Normal\n",
       "10        27   59:22.6    Normal"
      ]
     },
     "execution_count": 6,
     "metadata": {},
     "output_type": "execute_result"
    }
   ],
   "source": [
    "new_sub_set = truck_events.loc[0:10, [\"driverId\", \"eventTime\", \"eventType\"]]\n",
    "new_sub_set"
   ]
  },
  {
   "cell_type": "code",
   "execution_count": 7,
   "id": "67d4409d",
   "metadata": {},
   "outputs": [
    {
     "data": {
      "text/plain": [
       "driverId                                    18\n",
       "truckId                                     16\n",
       "eventTime                              59:21.7\n",
       "eventType                               Normal\n",
       "longitude                               -89.66\n",
       "latitude                                 39.78\n",
       "eventKey             18|16|9223370572464814089\n",
       "CorrelationId            3660000000000000000.0\n",
       "driverName                           Grant Liu\n",
       "routeId                             1565885487\n",
       "routeName        Springfield to KC Via Hanibal\n",
       "eventDate                        2016-05-27-22\n",
       "Name: 1, dtype: object"
      ]
     },
     "execution_count": 7,
     "metadata": {},
     "output_type": "execute_result"
    }
   ],
   "source": [
    "truck_events.iloc[1]"
   ]
  },
  {
   "cell_type": "code",
   "execution_count": 8,
   "id": "2051b0ca",
   "metadata": {},
   "outputs": [],
   "source": [
    "import os \n",
    "if not os.path.exists(\"../files/output\"):\n",
    "    os.makedirs(\"../files/output\")\n",
    "\n",
    "specific_columns.to_csv(\n",
    "    \"../files/output/specific_columns.csv\",\n",
    "    sep=\",\",\n",
    "    header=True,\n",
    "    index=False\n",
    ")"
   ]
  },
  {
   "cell_type": "code",
   "execution_count": null,
   "id": "7edb44ec",
   "metadata": {},
   "outputs": [],
   "source": []
  }
 ],
 "metadata": {
  "kernelspec": {
   "display_name": "base",
   "language": "python",
   "name": "python3"
  },
  "language_info": {
   "codemirror_mode": {
    "name": "ipython",
    "version": 3
   },
   "file_extension": ".py",
   "mimetype": "text/x-python",
   "name": "python",
   "nbconvert_exporter": "python",
   "pygments_lexer": "ipython3",
   "version": "3.12.7"
  }
 },
 "nbformat": 4,
 "nbformat_minor": 5
}
